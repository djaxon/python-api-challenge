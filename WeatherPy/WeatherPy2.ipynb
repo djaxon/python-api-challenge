{
 "cells": [
  {
   "cell_type": "code",
   "execution_count": 76,
   "metadata": {},
   "outputs": [],
   "source": [
    "# Dependencies\n",
    "import random\n",
    "import json\n",
    "import requests\n",
    "from config import api_key\n",
    "import matplotlib.pyplot as plt\n",
    "from scipy import stats\n",
    "import pandas as pd\n",
    "from citipy import citipy\n",
    "import numpy as np"
   ]
  },
  {
   "cell_type": "code",
   "execution_count": 108,
   "metadata": {},
   "outputs": [
    {
     "ename": "KeyError",
     "evalue": "'coord'",
     "output_type": "error",
     "traceback": [
      "\u001b[1;31m---------------------------------------------------------------------------\u001b[0m",
      "\u001b[1;31mKeyError\u001b[0m                                  Traceback (most recent call last)",
      "\u001b[1;32m<ipython-input-108-a22505fac647>\u001b[0m in \u001b[0;36m<module>\u001b[1;34m\u001b[0m\n\u001b[0;32m     29\u001b[0m \u001b[1;32mwhile\u001b[0m \u001b[0mc\u001b[0m \u001b[1;33m<=\u001b[0m\u001b[1;36m499\u001b[0m\u001b[1;33m:\u001b[0m\u001b[1;33m\u001b[0m\u001b[1;33m\u001b[0m\u001b[0m\n\u001b[0;32m     30\u001b[0m     \u001b[0mresponse\u001b[0m\u001b[1;33m=\u001b[0m\u001b[0mrequests\u001b[0m\u001b[1;33m.\u001b[0m\u001b[0mget\u001b[0m\u001b[1;33m(\u001b[0m\u001b[0mquery_url\u001b[0m \u001b[1;33m+\u001b[0m \u001b[0mcity_list\u001b[0m\u001b[1;33m[\u001b[0m\u001b[0mc\u001b[0m\u001b[1;33m]\u001b[0m\u001b[1;33m)\u001b[0m\u001b[1;33m.\u001b[0m\u001b[0mjson\u001b[0m\u001b[1;33m(\u001b[0m\u001b[1;33m)\u001b[0m\u001b[1;33m\u001b[0m\u001b[1;33m\u001b[0m\u001b[0m\n\u001b[1;32m---> 31\u001b[1;33m     \u001b[0mlatt\u001b[0m\u001b[1;33m.\u001b[0m\u001b[0mappend\u001b[0m\u001b[1;33m(\u001b[0m\u001b[0mresponse\u001b[0m\u001b[1;33m[\u001b[0m\u001b[1;34m\"coord\"\u001b[0m\u001b[1;33m]\u001b[0m\u001b[1;33m[\u001b[0m\u001b[1;34m\"lat\"\u001b[0m\u001b[1;33m]\u001b[0m\u001b[1;33m)\u001b[0m\u001b[1;33m\u001b[0m\u001b[1;33m\u001b[0m\u001b[0m\n\u001b[0m\u001b[0;32m     32\u001b[0m     \u001b[0mlon\u001b[0m\u001b[1;33m.\u001b[0m\u001b[0mappend\u001b[0m\u001b[1;33m(\u001b[0m\u001b[0mresponse\u001b[0m\u001b[1;33m[\u001b[0m\u001b[1;34m\"coord\"\u001b[0m\u001b[1;33m]\u001b[0m\u001b[1;33m[\u001b[0m\u001b[1;34m\"lon\"\u001b[0m\u001b[1;33m]\u001b[0m\u001b[1;33m)\u001b[0m\u001b[1;33m\u001b[0m\u001b[1;33m\u001b[0m\u001b[0m\n\u001b[0;32m     33\u001b[0m     \u001b[1;31m# convert kelvin to F\u001b[0m\u001b[1;33m\u001b[0m\u001b[1;33m\u001b[0m\u001b[1;33m\u001b[0m\u001b[0m\n",
      "\u001b[1;31mKeyError\u001b[0m: 'coord'"
     ]
    }
   ],
   "source": [
    "# Save config information.\n",
    "latt=[]\n",
    "lon=[]\n",
    "temp=[]\n",
    "wind_speed=[]\n",
    "clouds=[]\n",
    "humidity=[]\n",
    "date=[]\n",
    "country=[]\n",
    "nearest_city=[]\n",
    "\n",
    "city_list=[]\n",
    "for i in range(0,500):\n",
    "    lat=random.choice(range(-90,90))\n",
    "    lng=random.choice(range(-180,180))\n",
    "    city = citipy.nearest_city(lat,lng)\n",
    "    city_name = city.city_name\n",
    "    city_list.append(city_name)\n",
    "city_list\n",
    "\n",
    "# country = city.country_code\n",
    "# print(f'{lat},{lng} and {city_name}, {country}')\n",
    "\n",
    "# Build partial query URL\n",
    "\n",
    "url = \"http://api.openweathermap.org/data/2.5/weather?\"\n",
    "query_url = f\"{url}appid={api_key}&q=\"\n",
    "c=0\n",
    "while c <=499:\n",
    "    response=requests.get(query_url + city_list[c]).json()\n",
    "    latt.append(response[\"coord\"][\"lat\"])\n",
    "    lon.append(response[\"coord\"][\"lon\"])\n",
    "    # convert kelvin to F\n",
    "    temp.append(round((response[\"main\"][\"temp\"] - 273)*1.8 + 32,2))\n",
    "    # convert m/s to mph\n",
    "    wind_speed.append(round(response[\"wind\"][\"speed\"]*2.23693629,2))\n",
    "    clouds.append(response[\"clouds\"][\"all\"])\n",
    "    humidity.append(response[\"main\"][\"humidity\"])\n",
    "    date.append(response[\"dt\"])\n",
    "    country.append(response[\"sys\"][\"country\"])\n",
    "    nearest_city.append(response[\"name\"])\n",
    "    c=c+1\n",
    "    \n",
    "weather_dict = {\"City\": nearest_city,\n",
    "             \"Country\": country,\n",
    "             \"Latitude\": latt,\n",
    "             \"Longitude\": lon,\n",
    "             \"Temperature (F)\": temp,\n",
    "             \"Wind Speed (mph)\": wind_speed,\n",
    "             \"Cloudiness %\": clouds,\n",
    "             \"Humidity %\": humidity,\n",
    "             \"Date\": date}\n",
    "weather_dict\n",
    "# df=pd.DataFrame([weather_dict])\n",
    "# df\n",
    "\n",
    "#print(query_url)"
   ]
  },
  {
   "cell_type": "code",
   "execution_count": null,
   "metadata": {},
   "outputs": [],
   "source": []
  }
 ],
 "metadata": {
  "kernelspec": {
   "display_name": "Python 3",
   "language": "python",
   "name": "python3"
  },
  "language_info": {
   "codemirror_mode": {
    "name": "ipython",
    "version": 3
   },
   "file_extension": ".py",
   "mimetype": "text/x-python",
   "name": "python",
   "nbconvert_exporter": "python",
   "pygments_lexer": "ipython3",
   "version": "3.7.6"
  }
 },
 "nbformat": 4,
 "nbformat_minor": 4
}
